{
 "cells": [
  {
   "cell_type": "code",
   "execution_count": 41,
   "metadata": {
    "collapsed": true,
    "deletable": true,
    "editable": true
   },
   "outputs": [],
   "source": [
    "from dataGeneration import generateSyntheticData\n",
    "import numpy as np\n",
    "import tensorflow as tf\n",
    "import matplotlib.pyplot as plt"
   ]
  },
  {
   "cell_type": "code",
   "execution_count": 42,
   "metadata": {
    "collapsed": false,
    "deletable": true,
    "editable": true
   },
   "outputs": [
    {
     "name": "stdout",
     "output_type": "stream",
     "text": [
      "causal:\n",
      "[  37.   72.  235.  767.]\n"
     ]
    }
   ],
   "source": [
    "x_train, y_train, causal, Kva, Kve = generateSyntheticData(seed=1, n=1000, p=800, d=0.005, popNum=1, groupNum=1,\n",
    "                          noise=0.01, confounderWeight=0)\n",
    "\n",
    "y_train = y_train.reshape(1, -1)\n",
    "\n",
    "causal_idx = causal[0: 4, 0: 1]\n",
    "#causal_idx = causal_idx.reshape(1, -1)\n",
    "causal_idx = np.reshape(causal_idx, [-1])\n",
    "print \"causal:\\n\", causal_idx"
   ]
  },
  {
   "cell_type": "code",
   "execution_count": 43,
   "metadata": {
    "collapsed": true,
    "deletable": true,
    "editable": true
   },
   "outputs": [],
   "source": [
    "n_hidden_1 = 80\n",
    "n_hidden_2 = 1\n",
    "\n",
    "learning_rate = 0.005\n",
    "batch_size = 20\n",
    "display_step = 1\n",
    "training_epochs =1000 \n",
    "\n",
    "n_input = 800\n",
    "n_class = 1\n",
    "\n",
    "Alpha = 0.8\n",
    "keep_p = 0.6\n",
    "\n",
    "train_loss = np.zeros(training_epochs/batch_size)\n",
    "train_acc = np.zeros(training_epochs/batch_size)\n",
    "judge_0 = tf.zeros([n_input], tf.float32) "
   ]
  },
  {
   "cell_type": "code",
   "execution_count": 44,
   "metadata": {
    "collapsed": true,
    "deletable": true,
    "editable": true
   },
   "outputs": [],
   "source": [
    "diag_random = np.random.normal(0.2, 0.1, n_input)\n",
    "Ma_diag = np.diag(diag_random)\n",
    "weight_lasso = tf.cast(tf.Variable(Ma_diag), tf.float32)\n",
    "\n",
    "\n",
    "x = tf.placeholder(tf.float32, [None, n_input])\n",
    "y = tf.placeholder(tf.float32, [n_class, None])\n",
    "\n",
    "\n",
    "bias_lasso = tf.Variable(tf.random_normal([n_input], 0.2, 0.1))\n",
    "output_lasso = tf.add(tf.matmul(x, weight_lasso), bias_lasso)\n",
    "layer_0 = tf.nn.relu(output_lasso)"
   ]
  },
  {
   "cell_type": "code",
   "execution_count": 45,
   "metadata": {
    "collapsed": true,
    "deletable": true,
    "editable": true
   },
   "outputs": [],
   "source": [
    "def judge_range(pred, y):\n",
    "    sub = tf.abs(tf.subtract(pred, y))\n",
    "    ones = tf.ones([1, batch_size], tf.float32)  \n",
    "    bel = 1.5\n",
    "    ones = ones * bel\n",
    "    #if sub < bel, correct                \n",
    "    judg = tf.less_equal(sub, ones)\n",
    "    \n",
    "    return judg        \n",
    "        \n",
    "\n",
    "\n",
    "def add_layer(inputs, a, b, act_Fun = None):\n",
    "    \n",
    "    weight = tf.cast(tf.Variable(tf.random_normal([a, b], 0.2, 0.1)), tf.float32)\n",
    "    bias = tf.Variable(tf.random_normal([b], 0.2, 0.1))\n",
    "    yy = tf.add(tf.matmul(inputs, weight), bias)\n",
    "    yy = tf.nn.dropout(yy, keep_p)\n",
    "    \n",
    "    if act_Fun is None:\n",
    "        output = yy        \n",
    "    else:\n",
    "        output = act_Fun(yy)\n",
    "    \n",
    "    return output\n",
    "\n",
    "def multiplayer_perceptron(first_in):\n",
    "    \n",
    "    layer_1 = add_layer(first_in, n_input, n_hidden_1, act_Fun = tf.nn.relu)\n",
    "    \n",
    "    layer_2 = add_layer(layer_1, n_hidden_1, n_hidden_2, act_Fun = tf.nn.relu)\n",
    "    \n",
    "    out_layer = add_layer(layer_2, n_hidden_2, n_class, act_Fun = tf.nn.relu) \n",
    "    \n",
    "    return out_layer\n"
   ]
  },
  {
   "cell_type": "code",
   "execution_count": 46,
   "metadata": {
    "collapsed": true,
    "deletable": true,
    "editable": true
   },
   "outputs": [],
   "source": [
    "pred = multiplayer_perceptron(layer_0)\n",
    "pred = tf.reshape(pred, [1, batch_size])\n",
    "\n",
    "weight_lasso_sum = tf.trace(weight_lasso, name = None)\n",
    "weight_lasso_sum_abs = tf.abs(weight_lasso_sum)\n",
    "\n",
    "loss = tf.reduce_mean(tf.reduce_sum(tf.square(tf.subtract(y, pred)), [0, 1]) + tf.multiply(Alpha, weight_lasso_sum_abs))  \n",
    "optimize = tf.train.AdamOptimizer(learning_rate).minimize(loss)\n",
    "\n",
    "#correct_prediction = tf.equal(tf.argmax(pred, 1), tf.argmax(y, 1))\n",
    "correct_prediction = judge_range(pred, y)\n",
    "accuracy = tf.reduce_mean(tf.cast(correct_prediction, tf.float32))"
   ]
  },
  {
   "cell_type": "code",
   "execution_count": 55,
   "metadata": {
    "collapsed": false,
    "deletable": true,
    "editable": true
   },
   "outputs": [
    {
     "name": "stdout",
     "output_type": "stream",
     "text": [
      "step: 1  loss: 396.975128174  TRAIN_ACCURACY: 0.550\n",
      "step: 2  loss: 186.833694458  TRAIN_ACCURACY: 0.600\n",
      "step: 3  loss: 167.028228760  TRAIN_ACCURACY: 0.700\n",
      "step: 4  loss: 144.506515503  TRAIN_ACCURACY: 0.900\n",
      "step: 5  loss: 158.638275146  TRAIN_ACCURACY: 0.800\n",
      "step: 6  loss: 165.557922363  TRAIN_ACCURACY: 0.650\n",
      "step: 7  loss: 170.637969971  TRAIN_ACCURACY: 0.750\n",
      "step: 8  loss: 139.845809937  TRAIN_ACCURACY: 0.850\n",
      "step: 9  loss: 156.577484131  TRAIN_ACCURACY: 0.700\n",
      "step: 10  loss: 146.772735596  TRAIN_ACCURACY: 0.800\n",
      "step: 11  loss: 148.200439453  TRAIN_ACCURACY: 0.700\n",
      "step: 12  loss: 130.411361694  TRAIN_ACCURACY: 0.950\n",
      "step: 13  loss: 137.704330444  TRAIN_ACCURACY: 0.800\n",
      "step: 14  loss: 131.863830566  TRAIN_ACCURACY: 0.850\n",
      "step: 15  loss: 174.865936279  TRAIN_ACCURACY: 0.600\n",
      "step: 16  loss: 150.324386597  TRAIN_ACCURACY: 0.700\n",
      "step: 17  loss: 146.493103027  TRAIN_ACCURACY: 0.750\n",
      "step: 18  loss: 127.654747009  TRAIN_ACCURACY: 0.850\n",
      "step: 19  loss: 125.115722656  TRAIN_ACCURACY: 0.850\n",
      "step: 20  loss: 159.252532959  TRAIN_ACCURACY: 0.550\n",
      "step: 21  loss: 132.402130127  TRAIN_ACCURACY: 0.800\n",
      "step: 22  loss: 128.312835693  TRAIN_ACCURACY: 0.800\n",
      "step: 23  loss: 130.784545898  TRAIN_ACCURACY: 0.750\n",
      "step: 24  loss: 143.461944580  TRAIN_ACCURACY: 0.650\n",
      "step: 25  loss: 139.872070312  TRAIN_ACCURACY: 0.600\n",
      "step: 26  loss: 173.722900391  TRAIN_ACCURACY: 0.300\n",
      "step: 27  loss: 153.327941895  TRAIN_ACCURACY: 0.600\n",
      "step: 28  loss: 108.214736938  TRAIN_ACCURACY: 0.850\n",
      "step: 29  loss: 152.376708984  TRAIN_ACCURACY: 0.550\n",
      "step: 30  loss: 118.371315002  TRAIN_ACCURACY: 0.750\n",
      "step: 31  loss: 120.636497498  TRAIN_ACCURACY: 0.800\n",
      "step: 32  loss: 117.278137207  TRAIN_ACCURACY: 0.800\n",
      "step: 33  loss: 107.464820862  TRAIN_ACCURACY: 0.850\n",
      "step: 34  loss: 107.702514648  TRAIN_ACCURACY: 0.850\n",
      "step: 35  loss: 133.204589844  TRAIN_ACCURACY: 0.650\n",
      "step: 36  loss: 120.727828979  TRAIN_ACCURACY: 0.650\n",
      "step: 37  loss: 120.202507019  TRAIN_ACCURACY: 0.800\n",
      "step: 38  loss: 111.466323853  TRAIN_ACCURACY: 0.800\n",
      "step: 39  loss: 103.556686401  TRAIN_ACCURACY: 0.750\n",
      "step: 40  loss: 123.794044495  TRAIN_ACCURACY: 0.650\n",
      "step: 41  loss: 110.801483154  TRAIN_ACCURACY: 0.850\n",
      "step: 42  loss: 137.962371826  TRAIN_ACCURACY: 0.650\n",
      "step: 43  loss: 107.561470032  TRAIN_ACCURACY: 0.800\n",
      "step: 44  loss: 105.648612976  TRAIN_ACCURACY: 0.800\n",
      "step: 45  loss: 108.552658081  TRAIN_ACCURACY: 0.750\n",
      "step: 46  loss: 96.089256287  TRAIN_ACCURACY: 0.800\n",
      "step: 47  loss: 101.171173096  TRAIN_ACCURACY: 0.750\n",
      "step: 48  loss: 110.147583008  TRAIN_ACCURACY: 0.750\n",
      "step: 49  loss: 105.135261536  TRAIN_ACCURACY: 0.750\n",
      "step: 50  loss: 116.864784241  TRAIN_ACCURACY: 0.700\n",
      "layer_0:\n",
      "[[ 0.  0.  0. ...,  0.  0.  0.]\n",
      " [ 0.  0.  0. ...,  0.  0.  0.]\n",
      " [ 0.  0.  0. ...,  0.  0.  0.]\n",
      " ..., \n",
      " [ 0.  0.  0. ...,  0.  0.  0.]\n",
      " [ 0.  0.  0. ...,  0.  0.  0.]\n",
      " [ 0.  0.  0. ...,  0.  0.  0.]]\n",
      "**************************\n",
      "layer_0_sum:\n",
      "13.7193\n",
      "**************************\n",
      "diff_idx:\n",
      "[71]\n",
      "**************************\n",
      "pred:\n",
      "[[ 0.          0.          0.44061238  0.44061238  1.34910178  0.44061238\n",
      "   1.2516886   0.          0.          1.19700027  0.44061238  0.\n",
      "   2.98795056  1.01875436  1.07291317  0.          3.50817227  0.\n",
      "   1.01748264  1.2227298 ]]\n",
      "完成！！！！！\n"
     ]
    }
   ],
   "source": [
    "init = tf.global_variables_initializer()\n",
    "\n",
    "with tf.Session() as sess:\n",
    "    sess.run(init)\n",
    "    \n",
    "    step = 1\n",
    "    while step * batch_size - 1 < training_epochs:\n",
    "        \n",
    "        x_train_n = x_train[(step - 1)*batch_size: step * batch_size, 0: n_input]\n",
    "               \n",
    "        y_train_n = y_train[0, (step - 1)*batch_size: step * batch_size]\n",
    "        y_train_np = y_train_n.reshape(1, -1)\n",
    "        \n",
    "        feed = {x: x_train_n, y: y_train_np}\n",
    "        \n",
    "        sess.run(optimize, feed_dict = feed)\n",
    "        \n",
    "        dig_tensor = tf.diag_part(weight_lasso, name=None)\n",
    "        weight_lasso = tf.cast(tf.diag(dig_tensor), tf.float32)\n",
    "        \n",
    "        if step % display_step == 0:\n",
    "            los, acc = sess.run([loss, accuracy], feed_dict = feed)\n",
    "            \n",
    "            train_loss[step - 1] = los\n",
    "            train_acc[step - 1] = acc\n",
    "            \n",
    "            print(\"step: %d  loss: %.9f  TRAIN_ACCURACY: %.3f\"  % (step, los, acc))\n",
    "            \n",
    "#            a = sess.run(pred, feed_dict = feed)\n",
    "#            b = y_train_np\n",
    "#            print a\n",
    "#            print b\n",
    "#            print sess.run(weight_lasso)\n",
    "#            print \"**************************\"\n",
    "        if step == training_epochs/batch_size:\n",
    "            \n",
    "            q = sess.run(layer_0, feed_dict = feed)\n",
    "            print \"layer_0:\\n\", q\n",
    "            print \"**************************\"\n",
    "            q_sum_tensor = tf.reduce_sum(layer_0, [0, 1])\n",
    "            q_sum = sess.run(q_sum_tensor, feed_dict = feed)\n",
    "            print \"layer_0_sum:\\n\", q_sum\n",
    "            print \"**************************\"\n",
    "            rank_sum_tensor = tf.cast(tf.reduce_sum(layer_0, 0), tf.float32)\n",
    " #           rank_sum = sess.run(rank_sum_tensor, feed_dict = feed)\n",
    " #           print \"rank_sum:\\n\", rank_sum\n",
    " #           print \"**************************\"\n",
    "            diff_tensor = tf.setdiff1d(rank_sum_tensor, judge_0, name=None)  \n",
    "            diff, diff_idx = sess.run(diff_tensor, feed_dict = feed)\n",
    "            print \"diff_idx:\\n\", diff_idx\n",
    "            print \"**************************\"\n",
    "            p = sess.run(pred, feed_dict = feed)\n",
    "            print \"pred:\\n\", p\n",
    "            \n",
    "            \n",
    "        step = step + 1\n",
    "        \n",
    "    print \"完成！！！！！\"\n",
    "    \n",
    " "
   ]
  },
  {
   "cell_type": "code",
   "execution_count": 56,
   "metadata": {
    "collapsed": false,
    "deletable": true,
    "editable": true
   },
   "outputs": [
    {
     "data": {
      "image/png": "[encoded data removed]",
      "text/plain": [
       "<matplotlib.figure.Figure at 0x125d05f50>"
      ]
     },
     "metadata": {},
     "output_type": "display_data"
    }
   ],
   "source": [
    "plt.subplot(211)\n",
    "plt.plot(train_loss, 'r')\n",
    "plt.xlabel(\"epochs\")\n",
    "plt.ylabel(\"Training loss\")\n",
    "plt.grid(True)\n",
    "\n",
    "plt.subplot(212)\n",
    "plt.plot(train_acc, 'r')\n",
    "plt.xlabel(\"epochs\")\n",
    "plt.ylabel('Training Accuracy')\n",
    "#plt.ylim(0.0, 1)\n",
    "plt.grid(True)\n",
    "\n",
    "plt.show()"
   ]
  }
 ],
 "metadata": {
  "kernelspec": {
   "display_name": "Python 2",
   "language": "python",
   "name": "python2"
  },
  "language_info": {
   "codemirror_mode": {
    "name": "ipython",
    "version": 2
   },
   "file_extension": ".py",
   "mimetype": "text/x-python",
   "name": "python",
   "nbconvert_exporter": "python",
   "pygments_lexer": "ipython2",
   "version": "2.7.13"
  }
 },
 "nbformat": 4,
 "nbformat_minor": 2
}
